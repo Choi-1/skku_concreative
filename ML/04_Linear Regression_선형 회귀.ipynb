{
 "cells": [
  {
   "cell_type": "markdown",
   "metadata": {
    "collapsed": true
   },
   "source": [
    "# Recall) Linear regression Equation\n",
    "\n",
    "For a give $n$ dimensional data $\\mathbb{x} = \\left(x_1, x_2, ..., x_n \\right)$, a linear regression equation is defined by\n",
    "$$y = \\beta_0 + \\beta_1 x_1 + ... +\\beta x_n + e $$\n",
    "where\n",
    "- $y$ is a response variable (or dependent variable)\n",
    "- $\\mathbb{x} = \\left(x_1, x_2, ..., x_n \\right)$ is an input variable\n",
    "- $\\beta_0, \\beta_1, ... ,\\beta_n$ are regression coefficients\n",
    "- $e$ is the random variable which $e \\sim N(0, \\mu ^2)$"
   ]
  },
  {
   "cell_type": "code",
   "execution_count": null,
   "metadata": {
    "collapsed": true
   },
   "outputs": [],
   "source": []
  }
 ],
 "metadata": {
  "kernelspec": {
   "display_name": "Python 3",
   "language": "python",
   "name": "python3"
  },
  "language_info": {
   "codemirror_mode": {
    "name": "ipython",
    "version": 3
   },
   "file_extension": ".py",
   "mimetype": "text/x-python",
   "name": "python",
   "nbconvert_exporter": "python",
   "pygments_lexer": "ipython3",
   "version": "3.6.3"
  }
 },
 "nbformat": 4,
 "nbformat_minor": 2
}
